{
 "cells": [
  {
   "cell_type": "code",
   "execution_count": 18,
   "metadata": {},
   "outputs": [
    {
     "name": "stdout",
     "output_type": "stream",
     "text": [
      "['CleanLoLMatchHistory2.csv', 'openaq.csv', '.DS_Store', 'LoLMatchHistory.txt', 'CleanLoLMatchHistory.csv', 'LoL Match Making Statistics.ipynb', 'LolUpdatedStats.txt', 'CleanLoLMatchHistoryUpdate.csv']\n"
     ]
    }
   ],
   "source": [
    "import pandas as pd\n",
    "import seaborn as sns\n",
    "import matplotlib.pyplot as plt\n",
    "import os\n",
    "import numpy as np\n",
    "\n",
    "from sklearn.linear_model import LogisticRegression\n",
    "from sklearn.model_selection import train_test_split, cross_val_score, GridSearchCV, RandomizedSearchCV\n",
    "from sklearn.tree import DecisionTreeClassifier\n",
    "from scipy.stats import randint\n",
    "        \n",
    "DATA_DIR = '../../../data/'\n",
    "print(os.listdir(DATA_DIR))"
   ]
  },
  {
   "cell_type": "code",
   "execution_count": 5,
   "metadata": {},
   "outputs": [
    {
     "data": {
      "text/html": [
       "<div>\n",
       "<style>\n",
       "    .dataframe thead tr:only-child th {\n",
       "        text-align: right;\n",
       "    }\n",
       "\n",
       "    .dataframe thead th {\n",
       "        text-align: left;\n",
       "    }\n",
       "\n",
       "    .dataframe tbody tr th {\n",
       "        vertical-align: top;\n",
       "    }\n",
       "</style>\n",
       "<table border=\"1\" class=\"dataframe\">\n",
       "  <thead>\n",
       "    <tr style=\"text-align: right;\">\n",
       "      <th></th>\n",
       "      <th>Level</th>\n",
       "      <th>Champion</th>\n",
       "      <th>Score</th>\n",
       "      <th>Game Mode</th>\n",
       "      <th>Creep Score</th>\n",
       "      <th>Gold</th>\n",
       "      <th>Minutes</th>\n",
       "      <th>Date</th>\n",
       "      <th>Rank</th>\n",
       "      <th>Experience Gained</th>\n",
       "      <th>Kills</th>\n",
       "      <th>Deaths</th>\n",
       "      <th>Assists</th>\n",
       "      <th>Game Status</th>\n",
       "    </tr>\n",
       "  </thead>\n",
       "  <tbody>\n",
       "    <tr>\n",
       "      <th>0</th>\n",
       "      <td>15</td>\n",
       "      <td>Vayne</td>\n",
       "      <td>C / +188 XP</td>\n",
       "      <td>Summoner's Rift</td>\n",
       "      <td>169</td>\n",
       "      <td>9.8k</td>\n",
       "      <td>33:44:00</td>\n",
       "      <td>10/14/2018</td>\n",
       "      <td>C</td>\n",
       "      <td>188</td>\n",
       "      <td>3</td>\n",
       "      <td>6</td>\n",
       "      <td>6</td>\n",
       "      <td>-1</td>\n",
       "    </tr>\n",
       "    <tr>\n",
       "      <th>1</th>\n",
       "      <td>16</td>\n",
       "      <td>Shen</td>\n",
       "      <td>B- / +223 XP</td>\n",
       "      <td>Summoner's Rift</td>\n",
       "      <td>144</td>\n",
       "      <td>11.8k</td>\n",
       "      <td>40:20:00</td>\n",
       "      <td>10/13/2018</td>\n",
       "      <td>B-</td>\n",
       "      <td>223</td>\n",
       "      <td>5</td>\n",
       "      <td>7</td>\n",
       "      <td>15</td>\n",
       "      <td>-1</td>\n",
       "    </tr>\n",
       "    <tr>\n",
       "      <th>2</th>\n",
       "      <td>12</td>\n",
       "      <td>Shen</td>\n",
       "      <td>A-</td>\n",
       "      <td>Summoner's Rift</td>\n",
       "      <td>39</td>\n",
       "      <td>6.2k</td>\n",
       "      <td>25:50:00</td>\n",
       "      <td>10/13/2018</td>\n",
       "      <td>A-</td>\n",
       "      <td>0</td>\n",
       "      <td>0</td>\n",
       "      <td>0</td>\n",
       "      <td>13</td>\n",
       "      <td>1</td>\n",
       "    </tr>\n",
       "    <tr>\n",
       "      <th>3</th>\n",
       "      <td>12</td>\n",
       "      <td>Vayne</td>\n",
       "      <td>A+ / +146 XP</td>\n",
       "      <td>Summoner's Rift</td>\n",
       "      <td>137</td>\n",
       "      <td>9.9k</td>\n",
       "      <td>21:05</td>\n",
       "      <td>10/13/2018</td>\n",
       "      <td>A+</td>\n",
       "      <td>146</td>\n",
       "      <td>9</td>\n",
       "      <td>2</td>\n",
       "      <td>8</td>\n",
       "      <td>1</td>\n",
       "    </tr>\n",
       "    <tr>\n",
       "      <th>4</th>\n",
       "      <td>12</td>\n",
       "      <td>Vayne</td>\n",
       "      <td>B+ / +144 XP</td>\n",
       "      <td>Summoner's Rift</td>\n",
       "      <td>86</td>\n",
       "      <td>8.4k</td>\n",
       "      <td>20:53</td>\n",
       "      <td>10/13/2018</td>\n",
       "      <td>B+</td>\n",
       "      <td>144</td>\n",
       "      <td>6</td>\n",
       "      <td>2</td>\n",
       "      <td>6</td>\n",
       "      <td>1</td>\n",
       "    </tr>\n",
       "  </tbody>\n",
       "</table>\n",
       "</div>"
      ],
      "text/plain": [
       "   Level Champion         Score        Game Mode  Creep Score    Gold  \\\n",
       "0     15    Vayne   C / +188 XP  Summoner's Rift          169   9.8k    \n",
       "1     16     Shen  B- / +223 XP  Summoner's Rift          144  11.8k    \n",
       "2     12     Shen            A-  Summoner's Rift           39   6.2k    \n",
       "3     12    Vayne  A+ / +146 XP  Summoner's Rift          137   9.9k    \n",
       "4     12    Vayne  B+ / +144 XP  Summoner's Rift           86   8.4k    \n",
       "\n",
       "    Minutes        Date Rank  Experience Gained  Kills  Deaths  Assists  \\\n",
       "0  33:44:00  10/14/2018   C                 188      3       6        6   \n",
       "1  40:20:00  10/13/2018  B-                 223      5       7       15   \n",
       "2  25:50:00  10/13/2018   A-                  0      0       0       13   \n",
       "3     21:05  10/13/2018  A+                 146      9       2        8   \n",
       "4     20:53  10/13/2018  B+                 144      6       2        6   \n",
       "\n",
       "   Game Status  \n",
       "0           -1  \n",
       "1           -1  \n",
       "2            1  \n",
       "3            1  \n",
       "4            1  "
      ]
     },
     "execution_count": 5,
     "metadata": {},
     "output_type": "execute_result"
    }
   ],
   "source": [
    "filename = DATA_DIR + 'CleanLoLMatchHistory2.csv'\n",
    "df = pd.read_csv(filename)\n",
    "df.head()"
   ]
  },
  {
   "cell_type": "code",
   "execution_count": 6,
   "metadata": {
    "collapsed": true
   },
   "outputs": [],
   "source": [
    "def parse_gold(x):\n",
    "    if('k' in x):\n",
    "        x = x.replace('k','')\n",
    "        return float(x) * 1000\n",
    "    else:\n",
    "        return float(x)\n",
    "\n",
    "df.columns = df.columns.str.lower().str.replace(' ', '_')\n",
    "df['gold'] = df['gold'].apply(parse_gold)\n"
   ]
  },
  {
   "cell_type": "code",
   "execution_count": 8,
   "metadata": {
    "collapsed": true
   },
   "outputs": [],
   "source": [
    "def change_to_zero(x):\n",
    "    if x == -1:\n",
    "        return 0\n",
    "    else: return 1"
   ]
  },
  {
   "cell_type": "markdown",
   "metadata": {},
   "source": [
    "### Hyperparameter tuning for Logistic Regression"
   ]
  },
  {
   "cell_type": "code",
   "execution_count": 11,
   "metadata": {},
   "outputs": [
    {
     "name": "stdout",
     "output_type": "stream",
     "text": [
      "Tuned Logistic Regression Parameters: {'C': 0.05179474679231213}\n",
      "Best score is 0.8035714285714286\n"
     ]
    }
   ],
   "source": [
    "X = np.array(df.loc[:,['level','deaths','kills']])\n",
    "y = df.loc[:,'game_status'].apply(change_to_zero)\n",
    "\n",
    "# Setup the hyperparameter grid\n",
    "c_space = np.logspace(-5, 8, 15)\n",
    "param_grid = {'C': c_space}\n",
    "\n",
    "# Create the classifier: logreg\n",
    "logreg = LogisticRegression()\n",
    "\n",
    "\n",
    "\n",
    "#Instantiate the GridSearchCV object: logreg_cv\n",
    "logreg_cv = GridSearchCV(logreg, param_grid, cv=2)\n",
    "\n",
    "# Fit the classifier to the data\n",
    "logreg_cv.fit(X, y) \n",
    "\n",
    "print(\"Tuned Logistic Regression Parameters: {}\".format(logreg_cv.best_params_))\n",
    "print(\"Best score is {}\".format(logreg_cv.best_score_))"
   ]
  },
  {
   "cell_type": "markdown",
   "metadata": {},
   "source": [
    "### Hyperparameter tuning for Decision Tree Classifier"
   ]
  },
  {
   "cell_type": "code",
   "execution_count": 34,
   "metadata": {},
   "outputs": [
    {
     "name": "stdout",
     "output_type": "stream",
     "text": [
      "Tuned Decision Tree Parameters: {'max_depth': 1, 'criterion': 'gini', 'max_features': 3, 'min_samples_leaf': 2}\n",
      "Best score is 0.8035714285714286\n"
     ]
    }
   ],
   "source": [
    "X = np.array(df.loc[:,['level','deaths','kills']])\n",
    "y = np.array(df.loc[:,'game_status'].apply(change_to_zero))\n",
    "\n",
    "# Setup the parameters and distributions to sample from: param_dist\n",
    "param_dist = {\"max_depth\": [1, None],\n",
    "              \"max_features\": randint(1, 4),\n",
    "              \"min_samples_leaf\": randint(1, 4),\n",
    "              \"criterion\": [\"gini\", \"entropy\"]}\n",
    "\n",
    "# Instantiate a Decision Tree classifier: tree\n",
    "tree = DecisionTreeClassifier()\n",
    "\n",
    "# Instantiate the RandomizedSearchCV object: tree_cv\n",
    "tree_cv = RandomizedSearchCV(tree, param_dist, cv=5)\n",
    "\n",
    "# Fit it to the data\n",
    "tree_cv.fit(X,y)\n",
    "        \n",
    "# Print the tuned parameters and score\n",
    "print(\"Tuned Decision Tree Parameters: {}\".format(tree_cv.best_params_))\n",
    "print(\"Best score is {}\".format(tree_cv.best_score_))"
   ]
  },
  {
   "cell_type": "code",
   "execution_count": null,
   "metadata": {
    "collapsed": true
   },
   "outputs": [],
   "source": []
  }
 ],
 "metadata": {
  "kernelspec": {
   "display_name": "Python 3",
   "language": "python",
   "name": "python3"
  },
  "language_info": {
   "codemirror_mode": {
    "name": "ipython",
    "version": 3
   },
   "file_extension": ".py",
   "mimetype": "text/x-python",
   "name": "python",
   "nbconvert_exporter": "python",
   "pygments_lexer": "ipython3",
   "version": "3.5.4"
  }
 },
 "nbformat": 4,
 "nbformat_minor": 2
}
